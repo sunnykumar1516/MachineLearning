{
 "cells": [
  {
   "cell_type": "code",
   "execution_count": null,
   "id": "e389b119",
   "metadata": {},
   "outputs": [],
   "source": [
    "from matplotlib import pyplot as plt\n",
    "import mediapipe as mp\n",
    "from mediapipe.framework.formats import landmark_pb2\n",
    "import cv2"
   ]
  },
  {
   "cell_type": "code",
   "execution_count": null,
   "id": "32f89eea",
   "metadata": {},
   "outputs": [],
   "source": [
    "mp_hands = mp.solutions.hands\n",
    "mp_drawing = mp.solutions.drawing_utils"
   ]
  },
  {
   "cell_type": "code",
   "execution_count": null,
   "id": "2fc1c71a",
   "metadata": {},
   "outputs": [],
   "source": [
    "  \n",
    "#acess the camera and display\n",
    "# define a video capture object\n",
    "vid = cv2.VideoCapture(0)\n",
    "vid.set(3,515)\n",
    "vid.set(4,515)\n",
    "\n",
    "while(True):\n",
    "      \n",
    "    ret, frame = vid.read()\n",
    "   \n",
    "    \n",
    "    frame = cv2.cvtColor(frame, cv2.COLOR_BGR2RGB)\n",
    "     \n",
    "    results =  mp_hands.Hands().process(frame)\n",
    "        if results.multi_hand_landmarks:\n",
    "            for hand_landmarks in results.multi_hand_landmarks:\n",
    "                mp_drawing.draw_landmarks(frame,hand_landmarks,connections=mp_hands.HAND_CONNECTIONS)\n",
    "             \n",
    "        \n",
    "  # Display the resulting frame\n",
    "    cv2.imshow('frame', frame)\n",
    "    \n",
    "    if cv2.waitKey(1) & 0xFF == ord('e'):\n",
    "        break\n",
    "  \n",
    "\n",
    "vid.release()\n",
    "# Destroy all the windows\n",
    "cv2.destroyAllWindows()"
   ]
  },
  {
   "cell_type": "code",
   "execution_count": null,
   "id": "6844fe8d",
   "metadata": {},
   "outputs": [],
   "source": []
  },
  {
   "cell_type": "code",
   "execution_count": null,
   "id": "69319072",
   "metadata": {},
   "outputs": [],
   "source": []
  },
  {
   "cell_type": "code",
   "execution_count": null,
   "id": "e43d94f3",
   "metadata": {},
   "outputs": [],
   "source": []
  },
  {
   "cell_type": "code",
   "execution_count": null,
   "id": "6f72292d",
   "metadata": {},
   "outputs": [],
   "source": []
  },
  {
   "cell_type": "code",
   "execution_count": null,
   "id": "eff4e806",
   "metadata": {},
   "outputs": [],
   "source": []
  },
  {
   "cell_type": "code",
   "execution_count": null,
   "id": "160a6193",
   "metadata": {},
   "outputs": [],
   "source": []
  },
  {
   "cell_type": "code",
   "execution_count": null,
   "id": "9abf126c",
   "metadata": {},
   "outputs": [],
   "source": []
  },
  {
   "cell_type": "code",
   "execution_count": null,
   "id": "fbfc3984",
   "metadata": {},
   "outputs": [],
   "source": []
  },
  {
   "cell_type": "code",
   "execution_count": null,
   "id": "58bcb7c7",
   "metadata": {},
   "outputs": [],
   "source": [
    "path = \"/Users/sunny/Documents/sunny/Python Basics/Mediapipe/blue.png\"\n",
    "inner_circle = cv2.imread(path, -1)\n",
    "shield_size = (200,200)"
   ]
  },
  {
   "cell_type": "code",
   "execution_count": null,
   "id": "eef85d9c",
   "metadata": {},
   "outputs": [],
   "source": [
    "#tImg =  cv2.imread(\"hands-5.jpg\", -1)\n",
    "#res = asd(inner_circle,tImg,50,50,(212,212))\n",
    "#cv2.imshow('sampleImg',res)\n",
    "#cv2.waitKey(0)\n",
    "#cv2.destroyAllWindows()"
   ]
  },
  {
   "cell_type": "code",
   "execution_count": null,
   "id": "7e52235e",
   "metadata": {},
   "outputs": [],
   "source": [
    "\n",
    "\n",
    "def asd(targetImg, frame, x, y, size=None):\n",
    "    \n",
    "    if size is not None:\n",
    "        print(x ,\"::\",y,\"::\",size)\n",
    "        targetImg = cv2.resize(targetImg, size)\n",
    "\n",
    "        newFrame = frame.copy()\n",
    "        b, g, r, a = cv2.split(targetImg)\n",
    "        overlay_color = cv2.merge((b, g, r))\n",
    "        mask = cv2.medianBlur(a, 1)\n",
    "        h, w, _ = overlay_color.shape\n",
    "        #print(h,\"::\",w)\n",
    "        roi = newFrame[y:y + h, x:x + w]\n",
    "\n",
    "        img1_bg = cv2.bitwise_and(roi.copy(), roi.copy(), mask=cv2.bitwise_not(mask))\n",
    "        img2_fg = cv2.bitwise_and(overlay_color, overlay_color, mask=mask)\n",
    "        newFrame[y:y + h, x:x + w] = cv2.add(img1_bg, img2_fg)\n",
    "\n",
    "        return newFrame"
   ]
  },
  {
   "cell_type": "code",
   "execution_count": null,
   "id": "cced1a0c",
   "metadata": {},
   "outputs": [],
   "source": [
    "def calculate_distance(p1, p2):\n",
    "    x1, y1, x2, y2 = p1[0], p1[1], p2[0], p2[1]\n",
    "    lenght = ((x2 - x1) ** 2 + (y2 - y1) ** 2) ** (1.0 / 2)\n",
    "    return lenght"
   ]
  },
  {
   "cell_type": "code",
   "execution_count": null,
   "id": "d9e2796b",
   "metadata": {},
   "outputs": [],
   "source": [
    "\n",
    "# define a video capture object\n",
    "vid = cv2.VideoCapture(0)\n",
    "vid.set(3,515)\n",
    "vid.set(4,515)\n",
    "\n",
    "while(True):\n",
    "      \n",
    "    # Capture the video frame\n",
    "    # by frame\n",
    "    ret, frame = vid.read()\n",
    "    \n",
    "    frame = cv2.cvtColor(frame, cv2.COLOR_BGR2RGB)\n",
    "    \n",
    "    results =  mp_hands.Hands().process(frame)\n",
    "    \n",
    "    frame = cv2.cvtColor(frame, cv2.COLOR_RGB2BGR)\n",
    "    if results.multi_hand_landmarks:\n",
    "        for hand_landmarks in results.multi_hand_landmarks:\n",
    "                mp_drawing.draw_landmarks(frame,hand_landmarks,connections=mp_hands.HAND_CONNECTIONS)\n",
    "             \n",
    "                for ids, landmrk in enumerate(hand_landmarks.landmark):\n",
    "                    if ids == 0:\n",
    "                        #print(ids, landmrk.x ,\"::\", landmrk.x*515,\"::\",landmrk.y*515,landmrk.y)\n",
    "                        \n",
    "                        cx, cy = landmrk.x * 515, landmrk.y*515\n",
    "                        x1 = round(cx - (200 / 2))\n",
    "                        y1 = round(cy - (200 / 2))\n",
    "                        w = 512\n",
    "                        h = 512\n",
    "                        diameter = int(3 * 10)\n",
    " \n",
    "                        if x1 < 0:\n",
    "                            x1 = 0\n",
    "                        elif x1 > w:\n",
    "                            x1 = w\n",
    "                        if y1 < 0:\n",
    "                            y1 = 0\n",
    "                        elif y1 > h:\n",
    "                            y1 = h\n",
    "                        if x1 + diameter > w:\n",
    "                            diameter = w - x1\n",
    "                        if y1 + diameter > h:\n",
    "                            diameter = h - y1\n",
    "                        shield_size = diameter,diameter\n",
    "\n",
    "                        #frame = asd(inner_circle, frame, x1, y1, size=shield_size)\n",
    "           \n",
    "        \n",
    "       \n",
    "    # Display the resulting frame\n",
    "    cv2.imshow('frame', frame)\n",
    "      \n",
    "    # the 'q' button is set as the\n",
    "    # quitting button you may use any\n",
    "    # desired button of your choice\n",
    "    if cv2.waitKey(1) & 0xFF == ord('q'):\n",
    "        break\n",
    "  \n",
    "# After the loop release the cap object\n",
    "vid.release()\n",
    "# Destroy all the windows\n",
    "cv2.destroyAllWindows()"
   ]
  },
  {
   "cell_type": "code",
   "execution_count": null,
   "id": "7b1a5c3b",
   "metadata": {},
   "outputs": [],
   "source": [
    "\n",
    "# define a video capture object\n",
    "vid = cv2.VideoCapture(0)\n",
    "vid.set(3,515)\n",
    "vid.set(4,515)\n",
    "\n",
    "while(True):\n",
    "      \n",
    "   \n",
    "    ret, frame = vid.read()\n",
    "    \n",
    "    frame = cv2.cvtColor(frame, cv2.COLOR_BGR2RGB)\n",
    "    \n",
    "    results =  mp_hands.Hands().process(frame)\n",
    "    \n",
    "    frame = cv2.cvtColor(frame, cv2.COLOR_RGB2BGR)\n",
    "    \n",
    "    if results.multi_hand_landmarks:\n",
    "        for hand_landmarks in results.multi_hand_landmarks:\n",
    "                mp_drawing.draw_landmarks(frame,\n",
    "                                          hand_landmarks,\n",
    "                                          connections=mp_hands.HAND_CONNECTIONS)\n",
    "             \n",
    "         \n",
    "           \n",
    "          \n",
    "    # Display the resulting frame\n",
    "    cv2.imshow('frame', frame)\n",
    "      \n",
    "    \n",
    "    if cv2.waitKey(1) & 0xFF == ord('q'):\n",
    "        break\n",
    "  \n",
    "vid.release()\n",
    "# Destroy all the windows\n",
    "cv2.destroyAllWindows()"
   ]
  },
  {
   "cell_type": "code",
   "execution_count": null,
   "id": "582d4630",
   "metadata": {},
   "outputs": [],
   "source": []
  },
  {
   "cell_type": "code",
   "execution_count": null,
   "id": "e9914669",
   "metadata": {},
   "outputs": [],
   "source": []
  },
  {
   "cell_type": "code",
   "execution_count": null,
   "id": "7e73a103",
   "metadata": {},
   "outputs": [],
   "source": []
  },
  {
   "cell_type": "code",
   "execution_count": null,
   "id": "a9b5756b",
   "metadata": {},
   "outputs": [],
   "source": []
  },
  {
   "cell_type": "code",
   "execution_count": null,
   "id": "ea8c61ff",
   "metadata": {},
   "outputs": [],
   "source": []
  },
  {
   "cell_type": "code",
   "execution_count": null,
   "id": "aeba25ca",
   "metadata": {},
   "outputs": [],
   "source": [
    "\n"
   ]
  },
  {
   "cell_type": "code",
   "execution_count": null,
   "id": "8526b0ac",
   "metadata": {},
   "outputs": [],
   "source": []
  },
  {
   "cell_type": "code",
   "execution_count": null,
   "id": "bb1393f9",
   "metadata": {},
   "outputs": [],
   "source": []
  },
  {
   "cell_type": "code",
   "execution_count": null,
   "id": "0bc6b432",
   "metadata": {},
   "outputs": [],
   "source": []
  }
 ],
 "metadata": {
  "kernelspec": {
   "display_name": "Python 3 (ipykernel)",
   "language": "python",
   "name": "python3"
  },
  "language_info": {
   "codemirror_mode": {
    "name": "ipython",
    "version": 3
   },
   "file_extension": ".py",
   "mimetype": "text/x-python",
   "name": "python",
   "nbconvert_exporter": "python",
   "pygments_lexer": "ipython3",
   "version": "3.9.16"
  }
 },
 "nbformat": 4,
 "nbformat_minor": 5
}
